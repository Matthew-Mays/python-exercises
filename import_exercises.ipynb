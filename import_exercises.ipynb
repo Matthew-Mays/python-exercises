{
 "cells": [
  {
   "cell_type": "markdown",
   "metadata": {},
   "source": [
    "### 1. Import and test 3 of the functions from your functions exercise file.\n",
    "\n",
    "Import each function in a different way:\n",
    "\n",
    "import the module and refer to the function with the . syntax\n",
    "use from to import the function directly\n",
    "use from and give the function a different name"
   ]
  },
  {
   "cell_type": "code",
   "execution_count": 9,
   "metadata": {},
   "outputs": [],
   "source": [
    "from function_exercises import is_vowel"
   ]
  },
  {
   "cell_type": "code",
   "execution_count": 11,
   "metadata": {},
   "outputs": [
    {
     "data": {
      "text/plain": [
       "True"
      ]
     },
     "execution_count": 11,
     "metadata": {},
     "output_type": "execute_result"
    }
   ],
   "source": [
    "is_vowel(\"a\")"
   ]
  },
  {
   "cell_type": "code",
   "execution_count": 13,
   "metadata": {},
   "outputs": [
    {
     "data": {
      "text/plain": [
       "1000000"
      ]
     },
     "execution_count": 13,
     "metadata": {},
     "output_type": "execute_result"
    }
   ],
   "source": [
    "from function_exercises import handle_commas as hc\n",
    "hc(\"1,000,000\")"
   ]
  },
  {
   "cell_type": "code",
   "execution_count": 14,
   "metadata": {},
   "outputs": [
    {
     "data": {
      "text/plain": [
       "125.0"
      ]
     },
     "execution_count": 14,
     "metadata": {},
     "output_type": "execute_result"
    }
   ],
   "source": [
    "import function_exercises as fe\n",
    "fe.apply_discount(250, .5)"
   ]
  },
  {
   "cell_type": "markdown",
   "metadata": {},
   "source": [
    "### For the following exercises, read about and use the itertools module from the standard library to help you solve the problem.\n",
    "\n",
    "1. How many different ways can you combine the letters from \"abc\" with the numbers 1, 2, and 3?\n",
    "2. How many different ways can you combine two of the letters from \"abcd\"?"
   ]
  },
  {
   "cell_type": "code",
   "execution_count": 28,
   "metadata": {},
   "outputs": [],
   "source": [
    "from itertools import *"
   ]
  },
  {
   "cell_type": "code",
   "execution_count": 42,
   "metadata": {},
   "outputs": [
    {
     "name": "stdout",
     "output_type": "stream",
     "text": [
      "[('a', '1'), ('a', '2'), ('a', '3'), ('b', '1'), ('b', '2'), ('b', '3'), ('c', '1'), ('c', '2'), ('c', '3')]\n",
      "9\n"
     ]
    }
   ],
   "source": [
    "abc = list(product('abc', '123'))\n",
    "print(abc)\n",
    "print(len(abc))"
   ]
  },
  {
   "cell_type": "code",
   "execution_count": 43,
   "metadata": {},
   "outputs": [
    {
     "name": "stdout",
     "output_type": "stream",
     "text": [
      "[('a', 'b'), ('a', 'c'), ('a', 'd'), ('b', 'c'), ('b', 'd'), ('c', 'd')]\n",
      "6\n"
     ]
    }
   ],
   "source": [
    "abcd = list(combinations('abcd', 2))\n",
    "print(abcd)\n",
    "print(len(abcd))"
   ]
  },
  {
   "cell_type": "markdown",
   "metadata": {},
   "source": [
    "### Save this file as profiles.json inside of your exercises directory. Use the load function from the json module to open this file, it will produce a list of dictionaries. Using this data, write some code that calculates and outputs the following information:\n",
    "\n",
    "* Total number of users\n",
    "* Number of active users\n",
    "* Number of inactive users\n",
    "* Grand total of balances for all users\n",
    "* Average balance per user\n",
    "* User with the lowest balance\n",
    "* User with the highest balance\n",
    "* Most common favorite fruit\n",
    "* Least most common favorite fruit\n",
    "* Total number of unread messages for all users"
   ]
  },
  {
   "cell_type": "code",
   "execution_count": 41,
   "metadata": {},
   "outputs": [],
   "source": [
    "from json import *\n",
    "f = open('profiles.json')\n",
    "data = json.load(f)"
   ]
  },
  {
   "cell_type": "markdown",
   "metadata": {},
   "source": [
    "* Total number of users"
   ]
  },
  {
   "cell_type": "code",
   "execution_count": 76,
   "metadata": {},
   "outputs": [
    {
     "name": "stdout",
     "output_type": "stream",
     "text": [
      "The total number of users is : 19\n"
     ]
    }
   ],
   "source": [
    "total_users = len([i['_id'] for i in data])\n",
    "print(f'The total number of users is : {total_users}')"
   ]
  },
  {
   "cell_type": "markdown",
   "metadata": {},
   "source": [
    "* Number of active users"
   ]
  },
  {
   "cell_type": "code",
   "execution_count": 52,
   "metadata": {},
   "outputs": [
    {
     "name": "stdout",
     "output_type": "stream",
     "text": [
      "9\n"
     ]
    }
   ],
   "source": [
    "active_users = len([i['_id'] for i in data if i['isActive'] == True])\n",
    "print(f'There are {active_users} active users')"
   ]
  },
  {
   "cell_type": "markdown",
   "metadata": {},
   "source": [
    "* Number of inactive users"
   ]
  },
  {
   "cell_type": "code",
   "execution_count": 53,
   "metadata": {},
   "outputs": [
    {
     "name": "stdout",
     "output_type": "stream",
     "text": [
      "There is 10 inactive users\n"
     ]
    }
   ],
   "source": [
    "inactive_users = len([i['_id'] for i in data if i['isActive'] == False])\n",
    "print(f'There are {inactive_users} inactive users')"
   ]
  },
  {
   "cell_type": "markdown",
   "metadata": {},
   "source": [
    "* Grand total of balances for all users"
   ]
  },
  {
   "cell_type": "code",
   "execution_count": 69,
   "metadata": {},
   "outputs": [
    {
     "name": "stdout",
     "output_type": "stream",
     "text": [
      "The total balance between all users is $52667.02\n"
     ]
    }
   ],
   "source": [
    "balances = [float(i['balance'].replace(',', '').replace('$', '')) for i in data]\n",
    "total_balance = sum(balances)\n",
    "print(f'The total balance between all users is ${total_balance}')"
   ]
  },
  {
   "cell_type": "markdown",
   "metadata": {},
   "source": [
    "* Average balance per user"
   ]
  },
  {
   "cell_type": "code",
   "execution_count": 62,
   "metadata": {},
   "outputs": [
    {
     "name": "stdout",
     "output_type": "stream",
     "text": [
      "The average balance amongst users is $2771.95\n"
     ]
    }
   ],
   "source": [
    "average_balance = round((total_balance / total_users), 2)\n",
    "print(f'The average balance amongst users is ${average_balance}')"
   ]
  },
  {
   "cell_type": "markdown",
   "metadata": {},
   "source": [
    "* User with the lowest balance"
   ]
  },
  {
   "cell_type": "code",
   "execution_count": 74,
   "metadata": {},
   "outputs": [
    {
     "name": "stdout",
     "output_type": "stream",
     "text": [
      "The user with the lowest balance is : Avery Flynn\n"
     ]
    }
   ],
   "source": [
    "lowest_balance = min(balances)\n",
    "raw_balances = [i['balance'] for i in data]\n",
    "for balance in raw_balances:\n",
    "    if float(balance.replace('$', '').replace(',', '')) == lowest_balance:\n",
    "        lowest_balance = balance\n",
    "for user in data:\n",
    "    if user['balance'] == lowest_balance:\n",
    "        lowest_user = user['name']\n",
    "print(f'The user with the lowest balance is : {lowest_user}')"
   ]
  },
  {
   "cell_type": "markdown",
   "metadata": {},
   "source": [
    "* User with the highest balance"
   ]
  },
  {
   "cell_type": "code",
   "execution_count": 75,
   "metadata": {},
   "outputs": [
    {
     "name": "stdout",
     "output_type": "stream",
     "text": [
      "The user with the highest balance is : Fay Hammond\n"
     ]
    }
   ],
   "source": [
    "highest_balance = max(balances)\n",
    "for balance in raw_balances:\n",
    "    if float(balance.replace('$', '').replace(',', '')) == highest_balance:\n",
    "        highest_balance = balance\n",
    "for user in data:\n",
    "    if user['balance'] == highest_balance:\n",
    "        highest_user = user['name']\n",
    "print(f'The user with the highest balance is : {highest_user}')"
   ]
  },
  {
   "cell_type": "markdown",
   "metadata": {},
   "source": [
    "* Most common favorite fruit"
   ]
  },
  {
   "cell_type": "code",
   "execution_count": 101,
   "metadata": {},
   "outputs": [
    {
     "name": "stdout",
     "output_type": "stream",
     "text": [
      "The most common favorite fruit is strawberry at 9\n"
     ]
    }
   ],
   "source": [
    "fruits = {'strawberry': 0, 'apple': 0, 'banana': 0}\n",
    "for user in data:\n",
    "    if user['favoriteFruit'] == 'strawberry':\n",
    "        fruits['strawberry'] += 1\n",
    "    elif user['favoriteFruit'] == 'apple':\n",
    "        fruits['apple'] += 1\n",
    "    else:\n",
    "        fruits['banana'] += 1\n",
    "max_key = max([[fruit, fruits[fruit]] for fruit in fruits])\n",
    "print(f'The most common favorite fruit is {max_key[0]} at {max_key[1]}')"
   ]
  },
  {
   "cell_type": "markdown",
   "metadata": {},
   "source": [
    "* Least most common favorite fruit"
   ]
  },
  {
   "cell_type": "code",
   "execution_count": 102,
   "metadata": {},
   "outputs": [
    {
     "name": "stdout",
     "output_type": "stream",
     "text": [
      "The least common favorite fruit is apple at 4\n"
     ]
    }
   ],
   "source": [
    "min_key = min([[fruit, fruits[fruit]] for fruit in fruits])\n",
    "print(f'The least common favorite fruit is {min_key[0]} at {min_key[1]}')"
   ]
  },
  {
   "cell_type": "code",
   "execution_count": 110,
   "metadata": {},
   "outputs": [],
   "source": [
    "def unread_messages(users):\n",
    "    number = ''\n",
    "    for  char in user['greeting']:\n",
    "        if char in '1234567890':\n",
    "            number += char\n",
    "    return int(number)"
   ]
  },
  {
   "cell_type": "code",
   "execution_count": 112,
   "metadata": {},
   "outputs": [
    {
     "name": "stdout",
     "output_type": "stream",
     "text": [
      "210\n"
     ]
    }
   ],
   "source": [
    "count = 0\n",
    "for user in data:\n",
    "    count += unread_messages(data)\n",
    "print(count)"
   ]
  },
  {
   "cell_type": "code",
   "execution_count": null,
   "metadata": {},
   "outputs": [],
   "source": []
  }
 ],
 "metadata": {
  "kernelspec": {
   "display_name": "Python 3",
   "language": "python",
   "name": "python3"
  },
  "language_info": {
   "codemirror_mode": {
    "name": "ipython",
    "version": 3
   },
   "file_extension": ".py",
   "mimetype": "text/x-python",
   "name": "python",
   "nbconvert_exporter": "python",
   "pygments_lexer": "ipython3",
   "version": "3.7.6"
  }
 },
 "nbformat": 4,
 "nbformat_minor": 4
}
