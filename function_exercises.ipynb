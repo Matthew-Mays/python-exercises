{
 "cells": [
  {
   "cell_type": "markdown",
   "metadata": {},
   "source": [
    "### 1. Define a function named is_two. It should accept one input and return True if the passed input is either the number or the string 2, False otherwise."
   ]
  },
  {
   "cell_type": "code",
   "execution_count": 142,
   "metadata": {},
   "outputs": [],
   "source": [
    "# is_two defines a single parameter, num that is either a string or an int, and will return a boolean value.\n",
    "def is_two(num):\n",
    "    # check to see if the argument is either a string or an int\n",
    "    assert type(num) == str or type(num) == int, \"input must be a str or int\"\n",
    "    # if the arguement is an int, it then checks to see if said arguement is equal to 2\n",
    "    if num == 2:\n",
    "        # returns true if the num is equal to 2\n",
    "        return True\n",
    "    # if the arguement is a string, it then checks to see if the string is \"two\" regardless of case\n",
    "    elif str(num) == \"2\":\n",
    "        #returns true if the string is equal to two\n",
    "        return True\n",
    "    # if neither of these are true the function returns false\n",
    "    else:\n",
    "        return False"
   ]
  },
  {
   "cell_type": "code",
   "execution_count": 143,
   "metadata": {},
   "outputs": [
    {
     "name": "stdout",
     "output_type": "stream",
     "text": [
      "True\n",
      "True\n",
      "False\n",
      "False\n"
     ]
    }
   ],
   "source": [
    "print(is_two(2))\n",
    "print(is_two(\"2\"))\n",
    "print(is_two(3))\n",
    "print(is_two(\"two\"))"
   ]
  },
  {
   "cell_type": "markdown",
   "metadata": {},
   "source": [
    "### 2. Define a function named is_vowel. It should return True if the passed string is a vowel, False otherwise."
   ]
  },
  {
   "cell_type": "code",
   "execution_count": 23,
   "metadata": {},
   "outputs": [],
   "source": [
    "# is_vowel defines a single parameter, ltr that is a str, it then returns a boolean value\n",
    "def is_vowel(ltr):\n",
    "    # assert to check if the input, ltr, is a string\n",
    "    assert type(ltr) == str, \"input must be a str\"\n",
    "    # checks ltr to see if it is in any of the letters a, e, i, o, u\n",
    "    if ltr in \"aeiou\":\n",
    "        # if it\n",
    "        return True\n",
    "    else:\n",
    "        return False\n",
    "    "
   ]
  },
  {
   "cell_type": "code",
   "execution_count": 25,
   "metadata": {},
   "outputs": [
    {
     "name": "stdout",
     "output_type": "stream",
     "text": [
      "True\n",
      "False\n",
      "False\n"
     ]
    }
   ],
   "source": [
    "print(is_vowel(\"a\"))\n",
    "print(is_vowel(\"b\"))\n",
    "print(is_vowel(\"and\"))"
   ]
  },
  {
   "cell_type": "markdown",
   "metadata": {},
   "source": [
    "### 3. Define a function named is_consonant. It should return True if the passed string is a consonant, False otherwise. Use your is_vowel function to accomplish this."
   ]
  },
  {
   "cell_type": "code",
   "execution_count": 42,
   "metadata": {},
   "outputs": [],
   "source": [
    "def is_consonant(ltr):\n",
    "    if is_vowel(ltr) == False:\n",
    "        return True\n",
    "    else:\n",
    "        return False"
   ]
  },
  {
   "cell_type": "code",
   "execution_count": 43,
   "metadata": {},
   "outputs": [
    {
     "name": "stdout",
     "output_type": "stream",
     "text": [
      "False\n",
      "True\n"
     ]
    }
   ],
   "source": [
    "print(is_consonant(\"a\"))\n",
    "print(is_consonant(\"b\"))"
   ]
  },
  {
   "cell_type": "markdown",
   "metadata": {},
   "source": [
    "### 4. Define a function that accepts a string that is a word. The function should capitalize the first letter of the word if the word starts with a consonant."
   ]
  },
  {
   "cell_type": "code",
   "execution_count": 13,
   "metadata": {},
   "outputs": [],
   "source": [
    "def con_cap(word):\n",
    "    assert type(word) == str\n",
    "    if is_consonant(word[0:1]) == True:\n",
    "        cap_word = word.capitalize()\n",
    "        return cap_word"
   ]
  },
  {
   "cell_type": "code",
   "execution_count": 14,
   "metadata": {},
   "outputs": [
    {
     "name": "stdout",
     "output_type": "stream",
     "text": [
      "Banana\n",
      "None\n"
     ]
    }
   ],
   "source": [
    "print(con_cap(\"banana\"))\n",
    "print(con_cap(\"apple\"))"
   ]
  },
  {
   "cell_type": "markdown",
   "metadata": {},
   "source": [
    "### 5. Define a function named calculate_tip. It should accept a tip percentage (a number between 0 and 1) and the bill total, and return the amount to tip."
   ]
  },
  {
   "cell_type": "code",
   "execution_count": 34,
   "metadata": {},
   "outputs": [],
   "source": [
    "def calculate_tip(percent, bill):\n",
    "    assert type(percent) == float, \"input must be a float\"\n",
    "    assert type(bill) == float, \"input must be an int\"\n",
    "    tip = (bill * percent)\n",
    "    return tip"
   ]
  },
  {
   "cell_type": "code",
   "execution_count": 45,
   "metadata": {},
   "outputs": [
    {
     "name": "stdout",
     "output_type": "stream",
     "text": [
      "The amount you should tip is $12.5\n"
     ]
    }
   ],
   "source": [
    "print(f\"The amount you should tip is ${calculate_tip(.25, 50.0)}\")"
   ]
  },
  {
   "cell_type": "markdown",
   "metadata": {},
   "source": [
    "### 6. Define a function named apply_discount. It should accept a original price, and a discount percentage, and return the price after the discount is applied."
   ]
  },
  {
   "cell_type": "code",
   "execution_count": 40,
   "metadata": {},
   "outputs": [],
   "source": [
    "def apply_discount(price, disc):\n",
    "    assert type(price), type(disc) == float\n",
    "    disc_price = price - (price * disc)\n",
    "    return disc_price"
   ]
  },
  {
   "cell_type": "code",
   "execution_count": 46,
   "metadata": {},
   "outputs": [
    {
     "name": "stdout",
     "output_type": "stream",
     "text": [
      "The discounted ammount is : $125.0\n",
      "The discounted ammount is : $151.775\n"
     ]
    }
   ],
   "source": [
    "print(f\"The discounted ammount is : ${apply_discount(250.0, .5)}\")\n",
    "print(f\"The discounted ammount is : ${apply_discount(233.5, .35)}\")"
   ]
  },
  {
   "cell_type": "markdown",
   "metadata": {},
   "source": [
    "### 7. Define a function named handle_commas. It should accept a string that is a number that contains commas in it as input, and return a number as output."
   ]
  },
  {
   "cell_type": "code",
   "execution_count": 48,
   "metadata": {},
   "outputs": [],
   "source": [
    "def handle_commas(str_num):\n",
    "    no_comma = str_num.replace(\",\", \"\")\n",
    "    no_comma = int(no_comma)\n",
    "    return no_comma"
   ]
  },
  {
   "cell_type": "code",
   "execution_count": 50,
   "metadata": {},
   "outputs": [
    {
     "name": "stdout",
     "output_type": "stream",
     "text": [
      "1000000\n",
      "<class 'int'>\n"
     ]
    }
   ],
   "source": [
    "print(handle_commas(\"1,000,000\"))\n",
    "print(type(handle_commas(\"1,000,000\")))"
   ]
  },
  {
   "cell_type": "markdown",
   "metadata": {},
   "source": [
    "### 8. Define a function named get_letter_grade. It should accept a number and return the letter grade associated with that number (A-F)."
   ]
  },
  {
   "cell_type": "code",
   "execution_count": 53,
   "metadata": {},
   "outputs": [],
   "source": [
    "def get_letter_grade(grade):\n",
    "    assert type(grade) == int, \"The input must be an int\"\n",
    "    if grade >= 88:\n",
    "        return 'A'\n",
    "    elif grade >= 80:\n",
    "        return 'B'\n",
    "    elif grade >= 67:\n",
    "        return 'C'\n",
    "    elif grade >= 60:\n",
    "        return 'D'\n",
    "    else:\n",
    "        return 'F'"
   ]
  },
  {
   "cell_type": "code",
   "execution_count": 54,
   "metadata": {},
   "outputs": [
    {
     "name": "stdout",
     "output_type": "stream",
     "text": [
      "A\n",
      "C\n",
      "F\n"
     ]
    }
   ],
   "source": [
    "print(get_letter_grade(89))\n",
    "print(get_letter_grade(73))\n",
    "print(get_letter_grade(42))"
   ]
  },
  {
   "cell_type": "markdown",
   "metadata": {},
   "source": [
    "### 9. Define a function named remove_vowels that accepts a string and returns a string with all the vowels removed."
   ]
  },
  {
   "cell_type": "code",
   "execution_count": 55,
   "metadata": {},
   "outputs": [],
   "source": [
    "def remove_vowels(string):\n",
    "    assert type(string) == str, \"The input must be a str\"\n",
    "    new_string = string\n",
    "    for letter in new_string:\n",
    "        if letter in \"aeiou\":\n",
    "            new_string = new_string.replace(letter, \"\")\n",
    "    return new_string"
   ]
  },
  {
   "cell_type": "code",
   "execution_count": 56,
   "metadata": {},
   "outputs": [
    {
     "name": "stdout",
     "output_type": "stream",
     "text": [
      "bnn\n"
     ]
    }
   ],
   "source": [
    "print(remove_vowels(\"banana\"))"
   ]
  },
  {
   "cell_type": "markdown",
   "metadata": {},
   "source": [
    "### 10. Define a function named normalize_name. It should accept a string and return a valid python identifier, that is:"
   ]
  },
  {
   "cell_type": "code",
   "execution_count": 62,
   "metadata": {},
   "outputs": [],
   "source": [
    "def normalize_name(name):\n",
    "    assert type(name) == str, \"The input must be a str\"\n",
    "    normalized = name\n",
    "    for letter in name:\n",
    "        if letter in \"!@#$%^&*()+=-[]{}\\/|?.<>,`~\":\n",
    "            normalized = normalized.replace(letter, '')\n",
    "    normalized = normalized.lstrip()\n",
    "    normalized = normalized.rstrip()\n",
    "    normalized = normalized.replace(' ', '_')\n",
    "    normalized = normalized.lower()\n",
    "    return normalized"
   ]
  },
  {
   "cell_type": "code",
   "execution_count": 63,
   "metadata": {},
   "outputs": [
    {
     "name": "stdout",
     "output_type": "stream",
     "text": [
      "name\n",
      "first_name\n",
      "completed\n"
     ]
    }
   ],
   "source": [
    "print(normalize_name(\"Name\"))\n",
    "print(normalize_name(\"First Name\"))\n",
    "print(normalize_name(\"% Completed\"))"
   ]
  },
  {
   "cell_type": "markdown",
   "metadata": {},
   "source": [
    "### 11. Write a function named cumulative_sum that accepts a list of numbers and returns a list that is the cumulative sum of the numbers in the list."
   ]
  },
  {
   "cell_type": "code",
   "execution_count": 57,
   "metadata": {},
   "outputs": [],
   "source": [
    "def cumulative_sum(num_list):\n",
    "    assert type(num_list) == list, \"The input must be a list\"\n",
    "    for ele in num_list:\n",
    "        assert type(ele) == int, \"Every element in the list must be an int\"\n",
    "    sum_list = []\n",
    "    hold = 0\n",
    "    for num in num_list:\n",
    "        sum_list.append(num + hold)\n",
    "        hold += num\n",
    "    return sum_list"
   ]
  },
  {
   "cell_type": "code",
   "execution_count": 144,
   "metadata": {},
   "outputs": [
    {
     "name": "stdout",
     "output_type": "stream",
     "text": [
      "[1, 2, 3]\n",
      "[1, 3, 6, 10]\n"
     ]
    }
   ],
   "source": [
    "print(cumulative_sum([1, 1, 1]))\n",
    "print(cumulative_sum([1, 2, 3, 4]))"
   ]
  },
  {
   "cell_type": "markdown",
   "metadata": {},
   "source": [
    "### Bonus: Create a function named twelveto24. It should accept a string in the format 10:45am or 4:30pm and return a string that is the representation of the time in a 24-hour format."
   ]
  },
  {
   "cell_type": "code",
   "execution_count": 136,
   "metadata": {},
   "outputs": [],
   "source": [
    "# Here's a way to create this function without imports.\n",
    "# def twelveto24(time):\n",
    "#     new_time = \"\"\n",
    "#     if time[-2:] == \"am\":\n",
    "#         time = time.strip(\"am\")\n",
    "#         time = time.split(\":\")\n",
    "#         if len(time[0]) == 1:\n",
    "#             time[0] = \"0\" + time[0]\n",
    "#         time.insert(1, \":\")\n",
    "#         for ele in time:\n",
    "#             new_time += ele \n",
    "#         return new_time\n",
    "#     elif time[-2:] == \"pm\":\n",
    "#         time = time.strip(\"pm\")\n",
    "#         time = time.split(\":\")\n",
    "#         time[0] = str(int(time[0]) + 12)\n",
    "#         time.insert(1, \":\")\n",
    "#         for ele in time:\n",
    "#             new_time += ele \n",
    "#         return new_time"
   ]
  },
  {
   "cell_type": "code",
   "execution_count": 137,
   "metadata": {},
   "outputs": [
    {
     "name": "stdout",
     "output_type": "stream",
     "text": [
      "22:23\n"
     ]
    }
   ],
   "source": [
    "# print(twelveto24(\"10:23pm\"))"
   ]
  },
  {
   "cell_type": "code",
   "execution_count": 1,
   "metadata": {},
   "outputs": [],
   "source": [
    "# This is a function that does the same with imports.\n",
    "from datetime import datetime as dt\n",
    "\n",
    "def twelveto24(time):\n",
    "    assert type(time) == str, \"The input must be a str\"\n",
    "    raw_time = dt.strptime(time, \"%I:%M%p\")\n",
    "    true_time = dt.strftime(raw_time, \"%H:%M\")\n",
    "    return true_time"
   ]
  },
  {
   "cell_type": "code",
   "execution_count": 2,
   "metadata": {},
   "outputs": [
    {
     "name": "stdout",
     "output_type": "stream",
     "text": [
      "22:45\n"
     ]
    }
   ],
   "source": [
    "print(twelveto24(\"10:45pm\"))"
   ]
  },
  {
   "cell_type": "markdown",
   "metadata": {},
   "source": [
    "### Bonus: Write a function that does the opposite."
   ]
  },
  {
   "cell_type": "code",
   "execution_count": 4,
   "metadata": {},
   "outputs": [
    {
     "name": "stdout",
     "output_type": "stream",
     "text": [
      "2:34PM\n"
     ]
    }
   ],
   "source": [
    "def twelvefrom24(t):\n",
    "    assert type(t) == str, \"The input must be a str\"\n",
    "    raw_time = dt.strptime(t, \"%H:%M\")\n",
    "    new_time = raw_time.strftime(\"%-I:%M%p\")\n",
    "    return new_time\n",
    "print(twelvefrom24(\"14:34\"))"
   ]
  },
  {
   "cell_type": "markdown",
   "metadata": {},
   "source": [
    "### Bonus: Create a function named col_index. It should accept a spreadsheet column name, and return the index number of the column.\n",
    "* col_index('A') returns 1\n",
    "* col_index('B') returns 2\n",
    "* col_index('AA') returns 27"
   ]
  },
  {
   "cell_type": "code",
   "execution_count": 136,
   "metadata": {},
   "outputs": [],
   "source": [
    "def excel_col(col):\n",
    "    letters = 'A,B,C,D,E,F,G,H,I,J,K,L,M,N,O,P,Q,R,S,T,U,V,W,X,Y,Z'\n",
    "    letters = letters.split(',')\n",
    "    col = col.upper()\n",
    "    if len(col) == 1:\n",
    "        for ele in letters:\n",
    "            if ele == col:\n",
    "                index = letters.index(ele) + 1\n",
    "    elif len(col) == 2:\n",
    "        for ele in letters:\n",
    "            if ele == col[1]:\n",
    "                index = letters.index(ele) + 1\n",
    "                for ele in letters:\n",
    "                    if ele == col[0]:\n",
    "                        index = index + (26 * (letters.index(ele) + 1))\n",
    "    elif len(col) == 3:\n",
    "        for ele in letters:\n",
    "            if ele == col[2]:\n",
    "                index = letters.index(ele) + 1\n",
    "                for ele in letters:\n",
    "                    if ele == col[1]:\n",
    "                        index = index + (26 * (letters.index(ele) + 1))\n",
    "                        for ele in letters:\n",
    "                            if ele == col[0]:\n",
    "                                index = index + (26**2 * (letters.index(ele) + 1))\n",
    "    return index"
   ]
  },
  {
   "cell_type": "code",
   "execution_count": 139,
   "metadata": {},
   "outputs": [
    {
     "data": {
      "text/plain": [
       "1379"
      ]
     },
     "execution_count": 139,
     "metadata": {},
     "output_type": "execute_result"
    }
   ],
   "source": [
    "excel_col('baa')"
   ]
  },
  {
   "cell_type": "code",
   "execution_count": null,
   "metadata": {},
   "outputs": [],
   "source": []
  }
 ],
 "metadata": {
  "kernelspec": {
   "display_name": "Python 3",
   "language": "python",
   "name": "python3"
  },
  "language_info": {
   "codemirror_mode": {
    "name": "ipython",
    "version": 3
   },
   "file_extension": ".py",
   "mimetype": "text/x-python",
   "name": "python",
   "nbconvert_exporter": "python",
   "pygments_lexer": "ipython3",
   "version": "3.7.6"
  }
 },
 "nbformat": 4,
 "nbformat_minor": 4
}
