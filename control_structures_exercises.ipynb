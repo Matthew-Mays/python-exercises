{
 "cells": [
  {
   "cell_type": "markdown",
   "metadata": {},
   "source": [
    "### Conditional Basics\n",
    "a. prompt the user for a day of the week, print out whether the day is Monday or not"
   ]
  },
  {
   "cell_type": "code",
   "execution_count": 13,
   "metadata": {},
   "outputs": [
    {
     "name": "stdout",
     "output_type": "stream",
     "text": [
      "What day of the week is it: monday\n",
      "The day is monday\n"
     ]
    }
   ],
   "source": [
    "day = input(\"What day of the week is it: \")\n",
    "if day.lower() == \"monday\":\n",
    "    print(\"The day is monday\")\n",
    "else:\n",
    "    print(\"The day is not monday\")"
   ]
  },
  {
   "cell_type": "markdown",
   "metadata": {},
   "source": [
    "b. prompt the user for a day of the week, print out whether the day is a weekday or a weekend"
   ]
  },
  {
   "cell_type": "code",
   "execution_count": 5,
   "metadata": {},
   "outputs": [
    {
     "name": "stdout",
     "output_type": "stream",
     "text": [
      "What day of the week is it: sunday\n",
      "It is currently the weekend\n"
     ]
    }
   ],
   "source": [
    "day = input(\"What day of the week is it: \")\n",
    "if day.lower() in ['monday', 'tuesday', 'wednesday', 'thursday', 'friday']:\n",
    "    print(\"It is currently a weekday\")\n",
    "else:\n",
    "    print(\"It is currently the weekend\")"
   ]
  },
  {
   "cell_type": "markdown",
   "metadata": {},
   "source": [
    "create variables and make up values for\n",
    "\n",
    "* the number of hours worked in one week\n",
    "* the hourly rate\n",
    "* how much the week's paycheck will be\n",
    "* write the python code that calculates the weekly paycheck. You get paid time and a half if you work more than 40 hours"
   ]
  },
  {
   "cell_type": "code",
   "execution_count": 17,
   "metadata": {},
   "outputs": [
    {
     "name": "stdout",
     "output_type": "stream",
     "text": [
      "How many hours did you work: 42\n",
      "How much are you paid per hour: 10\n",
      "Your paycheck comes out to $430.0\n"
     ]
    }
   ],
   "source": [
    "hours_worked = float(input(\"How many hours did you work: \"))\n",
    "hourly_rate = float(input(\"How much are you paid per hour: \"))\n",
    "overtime = 0.0\n",
    "paycheck = 0.0\n",
    "if hours_worked > 40:\n",
    "    overtime = hours_worked - 40\n",
    "    hours_worked -= overtime\n",
    "paycheck = (hours_worked * hourly_rate) + (overtime * (hourly_rate * 1.5))\n",
    "\n",
    "print(f\"Your paycheck comes out to ${paycheck}\")"
   ]
  },
  {
   "cell_type": "markdown",
   "metadata": {},
   "source": [
    "### Loop Basics\n",
    "While\n",
    "* Create an integer variable i with a value of 5.\n",
    "* Create a while loop that runs so long as i is less than or equal to 15\n",
    "* Each loop iteration, output the current value of i, then increment i by one."
   ]
  },
  {
   "cell_type": "code",
   "execution_count": 15,
   "metadata": {},
   "outputs": [
    {
     "name": "stdout",
     "output_type": "stream",
     "text": [
      "5\n",
      "6\n",
      "7\n",
      "8\n",
      "9\n",
      "10\n",
      "11\n",
      "12\n",
      "13\n",
      "14\n",
      "15\n"
     ]
    }
   ],
   "source": [
    "i = 5\n",
    "while i <= 15:\n",
    "    print(i)\n",
    "    i += 1"
   ]
  },
  {
   "cell_type": "markdown",
   "metadata": {},
   "source": [
    "Create a while loop that will count by 2's starting with 0 and ending at 100. Follow each number with a new line."
   ]
  },
  {
   "cell_type": "code",
   "execution_count": 18,
   "metadata": {},
   "outputs": [
    {
     "name": "stdout",
     "output_type": "stream",
     "text": [
      "0\n",
      "2\n",
      "4\n",
      "6\n",
      "8\n",
      "10\n",
      "12\n",
      "14\n",
      "16\n",
      "18\n",
      "20\n",
      "22\n",
      "24\n",
      "26\n",
      "28\n",
      "30\n",
      "32\n",
      "34\n",
      "36\n",
      "38\n",
      "40\n",
      "42\n",
      "44\n",
      "46\n",
      "48\n",
      "50\n",
      "52\n",
      "54\n",
      "56\n",
      "58\n",
      "60\n",
      "62\n",
      "64\n",
      "66\n",
      "68\n",
      "70\n",
      "72\n",
      "74\n",
      "76\n",
      "78\n",
      "80\n",
      "82\n",
      "84\n",
      "86\n",
      "88\n",
      "90\n",
      "92\n",
      "94\n",
      "96\n",
      "98\n",
      "100\n"
     ]
    }
   ],
   "source": [
    "i = 0\n",
    "while i <= 100:\n",
    "    print(i)\n",
    "    i += 2"
   ]
  },
  {
   "cell_type": "markdown",
   "metadata": {},
   "source": [
    "Alter your loop to count backwards by 5's from 100 to -10."
   ]
  },
  {
   "cell_type": "code",
   "execution_count": null,
   "metadata": {},
   "outputs": [],
   "source": [
    "i = 100\n",
    "while i >= -10:\n",
    "    print(i)\n",
    "    i -= 5"
   ]
  },
  {
   "cell_type": "markdown",
   "metadata": {},
   "source": [
    "Create a while loop that starts at 2, and displays the number squared on each line while the number is less than 1,000,000. Output should equal:"
   ]
  },
  {
   "cell_type": "code",
   "execution_count": 4,
   "metadata": {},
   "outputs": [
    {
     "name": "stdout",
     "output_type": "stream",
     "text": [
      "2\n",
      "4\n",
      "16\n",
      "256\n",
      "65536\n"
     ]
    }
   ],
   "source": [
    "i = 2\n",
    "while i <= 1000000:\n",
    "    print(i)\n",
    "    i = i * i"
   ]
  },
  {
   "cell_type": "markdown",
   "metadata": {},
   "source": [
    "Write a loop descending from 100 by increments of 5"
   ]
  },
  {
   "cell_type": "code",
   "execution_count": 3,
   "metadata": {},
   "outputs": [
    {
     "name": "stdout",
     "output_type": "stream",
     "text": [
      "100\n",
      "95\n",
      "90\n",
      "85\n",
      "80\n",
      "75\n",
      "70\n",
      "65\n",
      "60\n",
      "55\n",
      "50\n",
      "45\n",
      "40\n",
      "35\n",
      "30\n",
      "25\n",
      "20\n",
      "15\n",
      "10\n",
      "5\n"
     ]
    }
   ],
   "source": [
    "i = 100\n",
    "while i >= 5:\n",
    "    print(i)\n",
    "    i -= 5"
   ]
  },
  {
   "cell_type": "markdown",
   "metadata": {},
   "source": [
    "### b. for loops\n",
    "Write some code that prompts the user for a number, then shows a multiplication table up through 10 for that number."
   ]
  },
  {
   "cell_type": "code",
   "execution_count": 18,
   "metadata": {},
   "outputs": [
    {
     "name": "stdout",
     "output_type": "stream",
     "text": [
      "What number would you like to see a multiplication table for: 10\n",
      "10 x 1 = 10\n",
      "10 x 2 = 20\n",
      "10 x 3 = 30\n",
      "10 x 4 = 40\n",
      "10 x 5 = 50\n",
      "10 x 6 = 60\n",
      "10 x 7 = 70\n",
      "10 x 8 = 80\n",
      "10 x 9 = 90\n",
      "10 x 10 = 100\n"
     ]
    }
   ],
   "source": [
    "number = int(input(\"What number would you like to see a multiplication table for: \"))\n",
    "mult = 0\n",
    "for num in range(1, 11):\n",
    "    mult = (number * num)\n",
    "    print(f\"{number} x {num} = {mult}\")"
   ]
  },
  {
   "cell_type": "markdown",
   "metadata": {},
   "source": [
    "Create a for loop that uses print to create the output shown below."
   ]
  },
  {
   "cell_type": "markdown",
   "metadata": {},
   "source": [
    "1\n",
    "22\n",
    "333\n",
    "4444\n",
    "55555\n",
    "666666\n",
    "7777777\n",
    "88888888\n",
    "999999999"
   ]
  },
  {
   "cell_type": "code",
   "execution_count": 21,
   "metadata": {},
   "outputs": [
    {
     "name": "stdout",
     "output_type": "stream",
     "text": [
      "1\n",
      "22\n",
      "333\n",
      "4444\n",
      "55555\n",
      "666666\n",
      "7777777\n",
      "88888888\n",
      "999999999\n"
     ]
    }
   ],
   "source": [
    "count = 1\n",
    "for num in range(9):\n",
    "    print(str(count) * count)\n",
    "    count += 1"
   ]
  },
  {
   "cell_type": "markdown",
   "metadata": {},
   "source": [
    "### C.break and continue\n",
    "Prompt the user for an odd number between 1 and 50. Use a loop and a break statement to continue prompting the user if they enter invalid input. (Hint: use the isdigit method on strings to determine this). Use a loop and the continue statement to output all the odd numbers between 1 and 50, except for the number the user entered."
   ]
  },
  {
   "cell_type": "code",
   "execution_count": 3,
   "metadata": {},
   "outputs": [
    {
     "name": "stdout",
     "output_type": "stream",
     "text": [
      "Enter an odd number to skip: 13\n",
      "Here is an odd number: 1\n",
      "Here is an odd number: 3\n",
      "Here is an odd number: 5\n",
      "Here is an odd number: 7\n",
      "Here is an odd number: 9\n",
      "Here is an odd number: 11\n",
      "Here is an odd number: 15\n",
      "Here is an odd number: 17\n",
      "Here is an odd number: 19\n",
      "Here is an odd number: 21\n",
      "Here is an odd number: 23\n",
      "Here is an odd number: 25\n",
      "Here is an odd number: 27\n",
      "Here is an odd number: 29\n",
      "Here is an odd number: 31\n",
      "Here is an odd number: 33\n",
      "Here is an odd number: 35\n",
      "Here is an odd number: 37\n",
      "Here is an odd number: 39\n",
      "Here is an odd number: 41\n",
      "Here is an odd number: 43\n",
      "Here is an odd number: 45\n",
      "Here is an odd number: 47\n",
      "Here is an odd number: 49\n"
     ]
    }
   ],
   "source": [
    "odd_num = input(\"Enter an odd number to skip: \")\n",
    "while(True):\n",
    "    if odd_num.isdigit() and int(odd_num) % 2 == 1:\n",
    "        break\n",
    "    else:\n",
    "        odd_num = input(\"That isn't an odd number, input an odd number: \")\n",
    "odd_num = int(odd_num)\n",
    "for num in range(1, 51):\n",
    "    if num % 2 == 0 or num == odd_num:\n",
    "        continue\n",
    "    print(f\"Here is an odd number: {num}\")"
   ]
  },
  {
   "cell_type": "markdown",
   "metadata": {},
   "source": [
    "The input function can be used to prompt for input and use that input in your python code. Prompt the user to enter a positive number and write a loop that counts from 0 to that number. (Hints: first make sure that the value the user entered is a valid number, also note that the input function returns a string, so you'll need to convert this to a numeric type.)"
   ]
  },
  {
   "cell_type": "code",
   "execution_count": 10,
   "metadata": {},
   "outputs": [
    {
     "name": "stdout",
     "output_type": "stream",
     "text": [
      "Please enter a positive number: 10\n",
      "0\n",
      "1\n",
      "2\n",
      "3\n",
      "4\n",
      "5\n",
      "6\n",
      "7\n",
      "8\n",
      "9\n",
      "10\n"
     ]
    }
   ],
   "source": [
    "pos_num = input(\"Please enter a positive number: \")\n",
    "input_check = True\n",
    "while(input_check):\n",
    "    if pos_num.isdigit() and int(pos_num) > 0:\n",
    "        break\n",
    "    else:\n",
    "        pos_num = input(\"That is an invalid input, please enter a positive number: \")\n",
    "pos_num = int(pos_num)\n",
    "for num in range(0, pos_num + 1):\n",
    "    print(num)"
   ]
  },
  {
   "cell_type": "markdown",
   "metadata": {},
   "source": [
    "Write a program that prompts the user for a positive integer. Next write a loop that prints out the numbers from the number the user entered down to 1."
   ]
  },
  {
   "cell_type": "code",
   "execution_count": 15,
   "metadata": {},
   "outputs": [
    {
     "name": "stdout",
     "output_type": "stream",
     "text": [
      "Please enter a positive number: no\n",
      "That is an invalid input, please enter a positive number: -10\n",
      "That is an invalid input, please enter a positive number: 10\n",
      "10\n",
      "9\n",
      "8\n",
      "7\n",
      "6\n",
      "5\n",
      "4\n",
      "3\n",
      "2\n",
      "1\n"
     ]
    }
   ],
   "source": [
    "pos_num = input(\"Please enter a positive number: \")\n",
    "input_check = True\n",
    "while(input_check):\n",
    "    if pos_num.isdigit() and int(pos_num) > 0:\n",
    "        break\n",
    "    else:\n",
    "        pos_num = input(\"That is an invalid input, please enter a positive number: \")\n",
    "pos_num = int(pos_num)\n",
    "while pos_num >= 1:\n",
    "    print(pos_num)\n",
    "    pos_num -= 1"
   ]
  },
  {
   "cell_type": "markdown",
   "metadata": {},
   "source": [
    "One of the most common interview questions for entry-level programmers is the FizzBuzz test. Developed by Imran Ghory, the test is designed to test basic looping and conditional logic skills.\n",
    "\n",
    "Write a program that prints the numbers from 1 to 100.\n",
    "For multiples of three print \"Fizz\" instead of the number\n",
    "For the multiples of five print \"Buzz\".\n",
    "For numbers which are multiples of both three and five print \"FizzBuzz\"."
   ]
  },
  {
   "cell_type": "code",
   "execution_count": 16,
   "metadata": {},
   "outputs": [
    {
     "name": "stdout",
     "output_type": "stream",
     "text": [
      "1\n",
      "2\n",
      "Fizz\n",
      "4\n",
      "Buzz\n",
      "Fizz\n",
      "7\n",
      "8\n",
      "Fizz\n",
      "Buzz\n",
      "11\n",
      "Fizz\n",
      "13\n",
      "14\n",
      "FizzBuzz\n",
      "16\n",
      "17\n",
      "Fizz\n",
      "19\n",
      "Buzz\n",
      "Fizz\n",
      "22\n",
      "23\n",
      "Fizz\n",
      "Buzz\n",
      "26\n",
      "Fizz\n",
      "28\n",
      "29\n",
      "FizzBuzz\n",
      "31\n",
      "32\n",
      "Fizz\n",
      "34\n",
      "Buzz\n",
      "Fizz\n",
      "37\n",
      "38\n",
      "Fizz\n",
      "Buzz\n",
      "41\n",
      "Fizz\n",
      "43\n",
      "44\n",
      "FizzBuzz\n",
      "46\n",
      "47\n",
      "Fizz\n",
      "49\n",
      "Buzz\n",
      "Fizz\n",
      "52\n",
      "53\n",
      "Fizz\n",
      "Buzz\n",
      "56\n",
      "Fizz\n",
      "58\n",
      "59\n",
      "FizzBuzz\n",
      "61\n",
      "62\n",
      "Fizz\n",
      "64\n",
      "Buzz\n",
      "Fizz\n",
      "67\n",
      "68\n",
      "Fizz\n",
      "Buzz\n",
      "71\n",
      "Fizz\n",
      "73\n",
      "74\n",
      "FizzBuzz\n",
      "76\n",
      "77\n",
      "Fizz\n",
      "79\n",
      "Buzz\n",
      "Fizz\n",
      "82\n",
      "83\n",
      "Fizz\n",
      "Buzz\n",
      "86\n",
      "Fizz\n",
      "88\n",
      "89\n",
      "FizzBuzz\n",
      "91\n",
      "92\n",
      "Fizz\n",
      "94\n",
      "Buzz\n",
      "Fizz\n",
      "97\n",
      "98\n",
      "Fizz\n"
     ]
    }
   ],
   "source": [
    "for num in range(1, 100):\n",
    "    if num % 3 == 0 and num % 5 == 0:\n",
    "        print(\"FizzBuzz\")\n",
    "    elif num % 3 == 0:\n",
    "        print(\"Fizz\")\n",
    "    elif num % 5 == 0:\n",
    "        print(\"Buzz\")\n",
    "    else:\n",
    "        print(num)"
   ]
  },
  {
   "cell_type": "markdown",
   "metadata": {},
   "source": [
    "Display a table of powers.\n",
    "\n",
    "* Prompt the user to enter an integer.\n",
    "* Display a table of squares and cubes from 1 to the value entered.\n",
    "* Ask if the user wants to continue.\n",
    "* Assume that the user will enter valid data.\n",
    "* Only continue if the user agrees to."
   ]
  },
  {
   "cell_type": "code",
   "execution_count": 1,
   "metadata": {},
   "outputs": [
    {
     "name": "stdout",
     "output_type": "stream",
     "text": [
      "What number would you like to go up to: 5\n",
      "Here is your table!\n",
      "\n",
      "number | squared | cubed\n",
      "------ | ------- | -----\n",
      "1      |1        |1      \n",
      "2      |4        |8      \n",
      "3      |9        |27     \n",
      "4      |16       |64     \n",
      "5      |25       |125    \n",
      "Would you like to continue? (y/n): y\n",
      "What number would you like to go up to: 7\n",
      "Here is your table!\n",
      "\n",
      "number | squared | cubed\n",
      "------ | ------- | -----\n",
      "1      |1        |1      \n",
      "2      |4        |8      \n",
      "3      |9        |27     \n",
      "4      |16       |64     \n",
      "5      |25       |125    \n",
      "6      |36       |216    \n",
      "7      |49       |343    \n",
      "Would you like to continue? (y/n): n\n"
     ]
    }
   ],
   "source": [
    "user_check = 'y'\n",
    "while(user_check.lower() == 'y'):\n",
    "    num_input = int(input(\"What number would you like to go up to: \"))\n",
    "    print(\"Here is your table!\")\n",
    "    print(\"\\nnumber | squared | cubed\")\n",
    "    print(\"------ | ------- | -----\")\n",
    "    for num in range(1, num_input + 1):\n",
    "        print(\"{:<7}|{:<9}|{:<7}\".format(num,num**2,num**3))\n",
    "    user_check = input(\"Would you like to continue? (y/n): \")"
   ]
  },
  {
   "cell_type": "markdown",
   "metadata": {},
   "source": [
    "Convert given number grades into letter grades.\n",
    "\n",
    "* Prompt the user for a numerical grade from 0 to 100.\n",
    "* Display the corresponding letter grade.\n",
    "* Prompt the user to continue.\n",
    "* Assume that the user will enter valid integers for the grades.\n",
    "* The application should only continue if the user agrees to.\n",
    "* Grade Ranges:\n",
    "\n",
    "    A : 100 - 88\n",
    "    B : 87 - 80\n",
    "    C : 79 - 67\n",
    "    D : 66 - 60\n",
    "    F : 59 - 0"
   ]
  },
  {
   "cell_type": "code",
   "execution_count": 7,
   "metadata": {},
   "outputs": [
    {
     "name": "stdout",
     "output_type": "stream",
     "text": [
      "Please enter a numerical grade between 0 and 100: 85\n",
      "A grade of 85 is a B\n",
      "Would you like to continue? (y/n): y\n",
      "Please enter a numerical grade between 0 and 100: 47\n",
      "A grade of 47 is an F\n",
      "Would you like to continue? (y/n): n\n"
     ]
    }
   ],
   "source": [
    "loop_check = 'y'\n",
    "while(loop_check.lower() == 'y'):\n",
    "    grade = int(input(\"Please enter a numerical grade between 0 and 100: \"))\n",
    "    if grade <= 59:\n",
    "        if grade >= 58:\n",
    "            print(f\"A grade of {grade} is an F+\")\n",
    "        else:\n",
    "            print(f\"A grade of {grade} is an F\")\n",
    "    elif grade <= 66:\n",
    "        if grade <= 61:\n",
    "            print(f\"A grade of {grade} is a D-\")\n",
    "        elif grade >= 65:\n",
    "            print(f\"A grade of {grade} is a D+\")\n",
    "        else:\n",
    "            print(f\"A grade of {grade} is a D\")\n",
    "    elif grade <= 79:\n",
    "        if grade <= 68:\n",
    "            print(f\"A grade of {grade} is a C-\")\n",
    "        elif grade >= 78:\n",
    "            print(f\"A grade of {grade} is a C+\")\n",
    "        else:\n",
    "            print(f\"A grade of {grade} is a C\")\n",
    "    elif grade <= 87:\n",
    "        if grade <= 81:\n",
    "            print(f\"A grade of {grade} is a B-\")\n",
    "        elif grade >= 86:\n",
    "            print(f\"A grade of {grade} is a B+\")\n",
    "        else:\n",
    "            print(f\"A grade of {grade} is a B\")\n",
    "    else:\n",
    "        if grade <= 89:\n",
    "            print(f\"A grade of {grade} is a A-\")\n",
    "        elif grade >= 99:\n",
    "            print(f\"A grade of {grade} is a A+\")\n",
    "        else:\n",
    "            print(f\"A grade of {grade} is an A\")\n",
    "    loop_check = input(\"Would you like to continue? (y/n): \")"
   ]
  },
  {
   "cell_type": "markdown",
   "metadata": {},
   "source": [
    "Create a list of dictionaries where each dictionary represents a book that you have read. Each dictionary in the list should have the keys title, author, and genre. Loop through the list and print out information about each book.\n",
    "\n",
    "Prompt the user to enter a genre, then loop through your books list and print out the titles of all the books in that genre."
   ]
  },
  {
   "cell_type": "code",
   "execution_count": 20,
   "metadata": {},
   "outputs": [
    {
     "name": "stdout",
     "output_type": "stream",
     "text": [
      "What genre would you like to look at: Sci-Fi\n",
      "['Halo: The Fall of Reach', 'Halo: The Flood']\n"
     ]
    }
   ],
   "source": [
    "books = [\n",
    "    {\n",
    "        \"title\": \"Halo: The Fall of Reach\",\n",
    "        \"author\": \"Eric Nylund\",\n",
    "        \"genre\": \"Sci-Fi\"\n",
    "    },\n",
    "    {\n",
    "        \"title\": \"Halo: The Flood\",\n",
    "        \"author\": \"William Dietz\",\n",
    "        \"genre\": \"Sci-Fi\"\n",
    "    },\n",
    "    {\n",
    "        \"title\": \"Shadows of the Horde\",\n",
    "        \"author\": \"Michael Stackpole\",\n",
    "        \"genre\": \"Fantasy\"\n",
    "    },\n",
    "    {\n",
    "        \"title\": \"Out of the Abyss\",\n",
    "        \"author\": \"Steve Kenson\",\n",
    "        \"genre\": \"Fantasy\"\n",
    "    }\n",
    "]\n",
    "\n",
    "choice = input(\"What genre would you like to look at: \")\n",
    "book_list = []\n",
    "for book in books:\n",
    "    if choice == book[\"genre\"]:\n",
    "        book_list.append(book[\"title\"])\n",
    "print(book_list)"
   ]
  }
 ],
 "metadata": {
  "kernelspec": {
   "display_name": "Python 3",
   "language": "python",
   "name": "python3"
  },
  "language_info": {
   "codemirror_mode": {
    "name": "ipython",
    "version": 3
   },
   "file_extension": ".py",
   "mimetype": "text/x-python",
   "name": "python",
   "nbconvert_exporter": "python",
   "pygments_lexer": "ipython3",
   "version": "3.7.6"
  }
 },
 "nbformat": 4,
 "nbformat_minor": 4
}
